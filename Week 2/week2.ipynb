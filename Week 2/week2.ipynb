{
 "cells": [
  {
   "attachments": {},
   "cell_type": "markdown",
   "metadata": {},
   "source": [
    "# CSV test exercises"
   ]
  },
  {
   "cell_type": "code",
   "execution_count": 16,
   "metadata": {},
   "outputs": [
    {
     "name": "stdout",
     "output_type": "stream",
     "text": [
      "['year,title,author,publisher\\n', '1642,Hiervsalem verwoest. Trevrspel.,Joost van den Vondel 1587-1679,\"Matthijsz, Paulus Amsterdam\"\\n', '1641,\"Gysbrecht van Aemstel, d\\'ondergangh van zijn stad en zijn ballingschap. Treurspel.\",Joost van den Vondel 1587-1679,\"Houthaeck, Dirck Cornelisz Amsterdam\"\\n']\n",
      "{'year': '1642', 'title': 'Hiervsalem verwoest. Trevrspel.', 'author': 'Joost van den Vondel 1587-1679', 'publisher': 'Matthijsz, Paulus Amsterdam'}\n",
      "{'year': '1641', 'title': \"Gysbrecht van Aemstel, d'ondergangh van zijn stad en zijn ballingschap. Treurspel.\", 'author': 'Joost van den Vondel 1587-1679', 'publisher': 'Houthaeck, Dirck Cornelisz Amsterdam'}\n",
      "{'year': '1720', 'title': 'Joseph in Egypten. Trevrspel.', 'author': 'Joost van den Vondel 1587-1679', 'publisher': 'Oosterwyk, Johannes van Amsterdam'}\n",
      "{'year': '17XX', 'title': 'Lucifer. Treurspel.', 'author': 'Joost van den Vondel 1587-1679', 'publisher': 'Wees, Abraham de I Amsterdam'}\n",
      "{'year': '17XX', 'title': 'De heerlyckheit der kercke haer ingang, opgang, en voortgang.', 'author': 'Joost van den Vondel 1587-1679', 'publisher': 'Oude druckerije, de Köln'}\n",
      "Joost van den Vondel 1587-1679 Hiervsalem verwoest. Trevrspel.\n",
      "Joost van den Vondel 1587-1679 Gysbrecht van Aemstel, d'ondergangh van zijn stad en zijn ballingschap. Treurspel.\n",
      "Joost van den Vondel 1587-1679 Joseph in Egypten. Trevrspel.\n",
      "Joost van den Vondel 1587-1679 Lucifer. Treurspel.\n",
      "Joost van den Vondel 1587-1679 De heerlyckheit der kercke haer ingang, opgang, en voortgang.\n"
     ]
    }
   ],
   "source": [
    "csv_file = 'data/vondel-stcn.csv'\n",
    "with open(csv_file) as stream:\n",
    "    # call stream.readlines() to read all lines in the CSV file as a list.\n",
    "    lines = stream.readlines()\n",
    "\n",
    "print(lines[:3])\n",
    "\n",
    "#\n",
    "\n",
    "import csv\n",
    "\n",
    "for entry in entries[:5]:\n",
    "    print(entry)\n",
    "\n",
    "#\n",
    "\n",
    "entries = []\n",
    "\n",
    "with open(csv_file) as stream:\n",
    "    reader = csv.DictReader(stream, delimiter=',')\n",
    "    for row in reader:\n",
    "        entries.append(row)\n",
    "\n",
    "for entry in entries[:5]:\n",
    "    print(entry['author'], entry['title'])"
   ]
  },
  {
   "attachments": {},
   "cell_type": "markdown",
   "metadata": {},
   "source": [
    "# TXT test exercises"
   ]
  },
  {
   "cell_type": "code",
   "execution_count": 4,
   "metadata": {},
   "outputs": [
    {
     "name": "stdout",
     "output_type": "stream",
     "text": [
      "Henry IV, Part I\n",
      "by William Shakespeare\n",
      "Edited by Barbara A. Mowat and Paul Werstine\n",
      "  with Michael Poston and Rebecca Niles\n",
      "Folger Shakespeare Library\n",
      "http://www.folgerdigitaltexts.org/?chapter=5&play=1H4\n",
      "Created on Jul 31, 2015, from FDT version 0.9.2\n",
      "\n",
      "Characters in the Play\n",
      "======================\n"
     ]
    }
   ],
   "source": [
    "file_path = 'data/folger/txt/1H4.txt'\n",
    "stream = open(file_path)\n",
    "contents = stream.read()\n",
    "stream.close()\n",
    "\n",
    "print(contents[:300])"
   ]
  },
  {
   "cell_type": "code",
   "execution_count": 5,
   "metadata": {},
   "outputs": [
    {
     "name": "stdout",
     "output_type": "stream",
     "text": [
      "Henry IV, Part I\n",
      "by William Shakespeare\n",
      "Edited by Barbara A. Mowat and Paul Werstine\n",
      "  with Michael Poston and Rebecca Niles\n",
      "Folger Shakespeare Library\n",
      "http://www.folgerdigitaltexts.org/?chapter=5&play=1H4\n",
      "Created on Jul 31, 2015, from FDT version 0.9.2\n",
      "\n",
      "Characters in the Play\n",
      "======================\n"
     ]
    }
   ],
   "source": [
    "with open(file_path) as stream:\n",
    "    contents = stream.read()\n",
    "\n",
    "print(contents[:300])"
   ]
  },
  {
   "attachments": {},
   "cell_type": "markdown",
   "metadata": {},
   "source": [
    "# PDF test exercises"
   ]
  },
  {
   "cell_type": "code",
   "execution_count": 6,
   "metadata": {},
   "outputs": [],
   "source": [
    "import PyPDF2 as PDF"
   ]
  },
  {
   "attachments": {},
   "cell_type": "markdown",
   "metadata": {},
   "source": [
    "-----\n"
   ]
  },
  {
   "attachments": {},
   "cell_type": "markdown",
   "metadata": {},
   "source": [
    "# WEEK TWO Exercises"
   ]
  },
  {
   "attachments": {},
   "cell_type": "markdown",
   "metadata": {},
   "source": [
    "\n",
    "## Easy\n",
    "1. The Dutch writer Joost van den Vondel is often seen as one of the most important Dutch playwrights of the seventeenth century. The file data/vondel-stcn.csv consists of 335 bibliographic records of his work as recorded by the Short-Title Catalogue, Netherlands (STCN). Use Python’s csv module to read this file into a list of records. Each record, then, should be a list with four elements: (i) the year of publication, (ii) the title, (iii) the name of the author, and (iv) the name of the publisher.\n",
    "\n"
   ]
  },
  {
   "cell_type": "code",
   "execution_count": 40,
   "metadata": {},
   "outputs": [
    {
     "name": "stdout",
     "output_type": "stream",
     "text": [
      "('1642', 'Hiervsalem verwoest. Trevrspel.', 'Joost van den Vondel 1587-1679', 'Matthijsz, Paulus Amsterdam')\n",
      "('1641', \"Gysbrecht van Aemstel, d'ondergangh van zijn stad en zijn ballingschap. Treurspel.\", 'Joost van den Vondel 1587-1679', 'Houthaeck, Dirck Cornelisz Amsterdam')\n",
      "('1720', 'Joseph in Egypten. Trevrspel.', 'Joost van den Vondel 1587-1679', 'Oosterwyk, Johannes van Amsterdam')\n",
      "('17XX', 'Lucifer. Treurspel.', 'Joost van den Vondel 1587-1679', 'Wees, Abraham de I Amsterdam')\n",
      "('17XX', 'De heerlyckheit der kercke haer ingang, opgang, en voortgang.', 'Joost van den Vondel 1587-1679', 'Oude druckerije, de Köln')\n"
     ]
    }
   ],
   "source": [
    "file_path = 'data/vondel-stcn.csv'\n",
    "\n",
    "import csv\n",
    "\n",
    "entries = []\n",
    "with open(file_path) as stream:\n",
    "    reader = csv.reader(stream, delimiter=',')\n",
    "    for year, title, author, publisher in reader:\n",
    "        entries.append((year, title, author, publisher))\n",
    "for entry in entries[1:6]:\n",
    "    print(entry)\n"
   ]
  },
  {
   "attachments": {},
   "cell_type": "markdown",
   "metadata": {},
   "source": [
    "-----\n",
    "\n",
    "2. Use the Counter object from the collections module to construct a frequency distribution of Vondel’s publishers. Print the five most common publishers.\n"
   ]
  },
  {
   "cell_type": "code",
   "execution_count": 42,
   "metadata": {},
   "outputs": [
    {
     "ename": "TypeError",
     "evalue": "string indices must be integers",
     "output_type": "error",
     "traceback": [
      "\u001b[0;31m---------------------------------------------------------------------------\u001b[0m",
      "\u001b[0;31mTypeError\u001b[0m                                 Traceback (most recent call last)",
      "Cell \u001b[0;32mIn[42], line 5\u001b[0m\n\u001b[1;32m      3\u001b[0m languages \u001b[39m=\u001b[39m collections\u001b[39m.\u001b[39mCounter()\n\u001b[1;32m      4\u001b[0m \u001b[39mfor\u001b[39;00m entry \u001b[39min\u001b[39;00m csv_file:\n\u001b[0;32m----> 5\u001b[0m     languages[entry[\u001b[39m'\u001b[39;49m\u001b[39mlang\u001b[39;49m\u001b[39m'\u001b[39;49m]] \u001b[39m+\u001b[39m\u001b[39m=\u001b[39m \u001b[39m1\u001b[39m\n\u001b[1;32m      7\u001b[0m \u001b[39mprint\u001b[39m(languages\u001b[39m.\u001b[39mmost_common())\n",
      "\u001b[0;31mTypeError\u001b[0m: string indices must be integers"
     ]
    }
   ],
   "source": [
    "import collections\n",
    "\n",
    "languages = collections.Counter()\n",
    "for entry in csv_file:\n",
    "    languages[entry['lang']] += 1\n",
    "\n",
    "print(languages.most_common())"
   ]
  },
  {
   "cell_type": "markdown",
   "metadata": {},
   "source": [
    "\n",
    "3. The place name of publication of Vondel’s works is included in the publisher name. For this exercise you may assume that the place name is the last word of the string. Write a procedure to extract all place names, and store those in a list. Use the Counter object to construct a frequency distribution and print the five most common place names.\n"
   ]
  },
  {
   "attachments": {},
   "cell_type": "markdown",
   "metadata": {},
   "source": [
    "\n",
    "## Moderate\n",
    "1. In this exercise, we’ll ask you to create and draw a character network for Shakespeare’s Romeo and Juliet and Othello. The XML encoded plays can be found at data/folger/xml/Rom.xml and data/folger/xml/Oth.xml. Compare the two visualizations to that of Hamlet. Comment on any differences you observe.\n"
   ]
  },
  {
   "attachments": {},
   "cell_type": "markdown",
   "metadata": {},
   "source": [
    "\n",
    "2. Print the number of nodes and edges for each of the three networks (i.e., including the graph for Hamlet). Which network has the largest number of nodes? And which has the largest number of edges?\n"
   ]
  },
  {
   "cell_type": "markdown",
   "metadata": {},
   "source": [
    "\n",
    "3. The character network of Hamlet has 38 nodes and 73 edges. However, many other edges between nodes could exist. That is to say, Shakespeare could have chosen to have other and more characters interact with each other. The extent to which this potential is used is called the density of a network. Network density is computed as the number of realized edges divided by the number of potential edges. NetworkX provides the function nx.density() to compute the density of a network. Use this function to compute the density of the three character networks. Which network has the highest density? How do the density values compare to the three visualizations?\n"
   ]
  }
 ],
 "metadata": {
  "kernelspec": {
   "display_name": "Python 3",
   "language": "python",
   "name": "python3"
  },
  "language_info": {
   "codemirror_mode": {
    "name": "ipython",
    "version": 3
   },
   "file_extension": ".py",
   "mimetype": "text/x-python",
   "name": "python",
   "nbconvert_exporter": "python",
   "pygments_lexer": "ipython3",
   "version": "3.10.4"
  },
  "orig_nbformat": 4,
  "vscode": {
   "interpreter": {
    "hash": "3ad933181bd8a04b432d3370b9dc3b0662ad032c4dfaa4e4f1596c548f763858"
   }
  }
 },
 "nbformat": 4,
 "nbformat_minor": 2
}
