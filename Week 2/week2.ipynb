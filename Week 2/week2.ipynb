{
 "cells": [
  {
   "cell_type": "code",
   "execution_count": 2,
   "metadata": {},
   "outputs": [],
   "source": [
    "import lxml.etree"
   ]
  },
  {
   "cell_type": "code",
   "execution_count": 3,
   "metadata": {},
   "outputs": [
    {
     "name": "stdout",
     "output_type": "stream",
     "text": [
      "<lxml.etree._ElementTree object at 0x7f0f8170c340>\n"
     ]
    }
   ],
   "source": [
    "tree = lxml.etree.parse('data/sonnets/18.xml')\n",
    "print(tree)"
   ]
  },
  {
   "cell_type": "code",
   "execution_count": 4,
   "metadata": {},
   "outputs": [
    {
     "name": "stdout",
     "output_type": "stream",
     "text": [
      "<sonnet author=\"William Shakepeare\" year=\"1609\">\n",
      "\t<line n=\"1\">Shall I compare thee to a summer's <rhyme>day</rhyme>?</line>\n",
      "\t<line n=\"2\">Thou art more lovely and more <rhyme>temperate</rhyme>:</line>\n",
      "\t<line n=\"3\">Rough winds do shake the darling buds of <rhyme>May</rhyme>,</line>\n",
      "\t<line n=\"4\">And summer's lease hath all too short a <rhyme>date</rhyme>:</line>\n",
      "\t<line n=\"5\">Sometime too hot the eye of heaven <rhyme>shines</rhyme>,</line>\n",
      "\t<line n=\"6\">And often is his gold complexion <rhyme>dimm'd</rhyme>;</line>\n",
      "\t<line n=\"7\">And every fair from fair sometime <rhyme>declines</rhyme>,</line>\n",
      "\t<line n=\"8\">By chance, or nature's changing course, <rhyme>untrimm'd</rhyme>;</line>\n",
      "    <volta/>\n",
      "\t<line n=\"9\">But thy eternal summer shall not <rhyme>fade</rhyme></line>\n",
      "\t<line n=\"10\">Nor lose possession of that fair thou <rhyme>ow'st</rhyme>;</line>\n",
      "\t<line n=\"11\">Nor shall Death brag thou wander'st in his <rhyme>shade</rhyme>,</line>\n",
      "\t<line n=\"12\">When in eternal lines to time thou <rhyme>grow'st</rhyme>;</line>\n",
      "\t<line n=\"13\">So long as men can breathe or eyes can <rhyme>see</rhyme>,</line>\n",
      "\t<line n=\"14\">So long lives this, and this gives life to <rhyme>thee</rhyme>.</line>\n",
      "</sonnet>\n"
     ]
    }
   ],
   "source": [
    "print(lxml.etree.tostring(tree).decode())"
   ]
  },
  {
   "cell_type": "code",
   "execution_count": 9,
   "metadata": {},
   "outputs": [
    {
     "name": "stdout",
     "output_type": "stream",
     "text": [
      "element: line -> Shall I compare thee to a summer's \n",
      "element: line -> Thou art more lovely and more \n",
      "element: line -> Rough winds do shake the darling buds of \n",
      "element: line -> And summer's lease hath all too short a \n",
      "element: line -> Sometime too hot the eye of heaven \n",
      "element: line -> And often is his gold complexion \n",
      "element: line -> And every fair from fair sometime \n",
      "element: line -> By chance, or nature's changing course, \n",
      "element: line -> But thy eternal summer shall not \n",
      "element: line -> Nor lose possession of that fair thou \n",
      "element: line -> Nor shall Death brag thou wander'st in his \n",
      "element: line -> When in eternal lines to time thou \n",
      "element: line -> So long as men can breathe or eyes can \n",
      "element: line -> So long lives this, and this gives life to \n"
     ]
    }
   ],
   "source": [
    "for rhyme in tree.iterfind('//line'):\n",
    "    print(f'element: {rhyme.tag} -> {rhyme.text}')"
   ]
  }
 ],
 "metadata": {
  "kernelspec": {
   "display_name": "Python 3",
   "language": "python",
   "name": "python3"
  },
  "language_info": {
   "codemirror_mode": {
    "name": "ipython",
    "version": 3
   },
   "file_extension": ".py",
   "mimetype": "text/x-python",
   "name": "python",
   "nbconvert_exporter": "python",
   "pygments_lexer": "ipython3",
   "version": "3.10.4 (main, Jan 25 2023, 00:13:50) [GCC 9.4.0]"
  },
  "orig_nbformat": 4,
  "vscode": {
   "interpreter": {
    "hash": "3ad933181bd8a04b432d3370b9dc3b0662ad032c4dfaa4e4f1596c548f763858"
   }
  }
 },
 "nbformat": 4,
 "nbformat_minor": 2
}
