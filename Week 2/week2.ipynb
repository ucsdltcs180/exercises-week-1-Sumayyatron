{
 "cells": [
  {
   "attachments": {},
   "cell_type": "markdown",
   "metadata": {},
   "source": [
    "# PRACTICE EXERCISES"
   ]
  },
  {
   "cell_type": "markdown",
   "metadata": {},
   "source": [
    "\n",
    "## CSV test exercises"
   ]
  },
  {
   "cell_type": "code",
   "execution_count": 27,
   "metadata": {},
   "outputs": [
    {
     "name": "stdout",
     "output_type": "stream",
     "text": [
      "['year,title,author,publisher\\n', '1642,Hiervsalem verwoest. Trevrspel.,Joost van den Vondel 1587-1679,\"Matthijsz, Paulus Amsterdam\"\\n', '1641,\"Gysbrecht van Aemstel, d\\'ondergangh van zijn stad en zijn ballingschap. Treurspel.\",Joost van den Vondel 1587-1679,\"Houthaeck, Dirck Cornelisz Amsterdam\"\\n']\n"
     ]
    }
   ],
   "source": [
    "csv_file = 'data/vondel-stcn.csv'\n",
    "with open(csv_file) as stream:\n",
    "    lines = stream.readlines()\n",
    "\n",
    "print(lines[:3])"
   ]
  },
  {
   "cell_type": "code",
   "execution_count": 28,
   "metadata": {},
   "outputs": [
    {
     "name": "stdout",
     "output_type": "stream",
     "text": [
      "{'year': '1702', 'title': 'Brieven der heilige maeghden, martelaressen.', 'author': 'Joost van den Vondel 1587-1679', 'publisher': 'Lamsvelt, Jan Amsterdam'}\n",
      "{'year': '17XX', 'title': \"Gysbregt van Aemstel, d'ondergank van zyne stad en ballingschap. Treur-spel.\", 'author': 'Joost van den Vondel 1587-1679', 'publisher': 'Veer, Pieter van der Utrecht'}\n",
      "{'year': '1639', 'title': 'Maeghden. Trevrspel.', 'author': 'Joost van den Vondel 1587-1679', 'publisher': 'Wees, Abraham de I Amsterdam'}\n",
      "{'year': '1721', 'title': 'Brieven der heilige maegden, martelaressen.', 'author': 'Joost van den Vondel 1587-1679', 'publisher': 'Visscher, Barent wed. Amsterdam'}\n",
      "{'year': '1653', 'title': 'Scheepskroon behaelt, in den scheepsstrijt, by Livorne, door [...] Joan van Galen.', 'author': 'Joost van den Vondel 1587-1679', 'publisher': 'Ravesteyn, Nicolaes van Amsterdam'}\n"
     ]
    }
   ],
   "source": [
    "import csv\n",
    "\n",
    "for entry in entries[5:10]:\n",
    "    print(entry)"
   ]
  },
  {
   "cell_type": "code",
   "execution_count": 24,
   "metadata": {},
   "outputs": [
    {
     "name": "stdout",
     "output_type": "stream",
     "text": [
      "Joost van den Vondel 1587-1679 Hiervsalem verwoest. Trevrspel.\n",
      "Joost van den Vondel 1587-1679 Gysbrecht van Aemstel, d'ondergangh van zijn stad en zijn ballingschap. Treurspel.\n",
      "Joost van den Vondel 1587-1679 Joseph in Egypten. Trevrspel.\n",
      "Joost van den Vondel 1587-1679 Lucifer. Treurspel.\n",
      "Joost van den Vondel 1587-1679 De heerlyckheit der kercke haer ingang, opgang, en voortgang.\n"
     ]
    }
   ],
   "source": [
    "entries = []\n",
    "\n",
    "with open(csv_file) as stream:\n",
    "    reader = csv.DictReader(stream, delimiter=',')\n",
    "    for row in reader:\n",
    "        entries.append(row)\n",
    "\n",
    "for entry in entries[:5]:\n",
    "    print(entry['author'], entry['title'])"
   ]
  },
  {
   "cell_type": "code",
   "execution_count": 33,
   "metadata": {},
   "outputs": [
    {
     "name": "stdout",
     "output_type": "stream",
     "text": [
      "('year', 'title', 'author', 'publisher')\n",
      "('1642', 'Hiervsalem verwoest. Trevrspel.', 'Joost van den Vondel 1587-1679', 'Matthijsz, Paulus Amsterdam')\n",
      "('1641', \"Gysbrecht van Aemstel, d'ondergangh van zijn stad en zijn ballingschap. Treurspel.\", 'Joost van den Vondel 1587-1679', 'Houthaeck, Dirck Cornelisz Amsterdam')\n"
     ]
    }
   ],
   "source": [
    "csv_file = 'data/vondel-stcn.csv'\n",
    "import csv\n",
    "\n",
    "entries = []\n",
    "with open(csv_file) as stream:\n",
    "    reader = csv.reader(stream, delimiter=',')\n",
    "    for year, title, author, publisher in reader:\n",
    "         entries.append((year, title, author, publisher))\n",
    "\n",
    "for entry in entries[:3]:\n",
    "    print(entry)"
   ]
  },
  {
   "attachments": {},
   "cell_type": "markdown",
   "metadata": {},
   "source": [
    "## TXT test exercises"
   ]
  },
  {
   "cell_type": "code",
   "execution_count": 4,
   "metadata": {},
   "outputs": [
    {
     "name": "stdout",
     "output_type": "stream",
     "text": [
      "Henry IV, Part I\n",
      "by William Shakespeare\n",
      "Edited by Barbara A. Mowat and Paul Werstine\n",
      "  with Michael Poston and Rebecca Niles\n",
      "Folger Shakespeare Library\n",
      "http://www.folgerdigitaltexts.org/?chapter=5&play=1H4\n",
      "Created on Jul 31, 2015, from FDT version 0.9.2\n",
      "\n",
      "Characters in the Play\n",
      "======================\n"
     ]
    }
   ],
   "source": [
    "file_path = 'data/folger/txt/1H4.txt'\n",
    "stream = open(file_path)\n",
    "contents = stream.read()\n",
    "stream.close()\n",
    "\n",
    "print(contents[:300])"
   ]
  },
  {
   "cell_type": "code",
   "execution_count": 5,
   "metadata": {},
   "outputs": [
    {
     "name": "stdout",
     "output_type": "stream",
     "text": [
      "Henry IV, Part I\n",
      "by William Shakespeare\n",
      "Edited by Barbara A. Mowat and Paul Werstine\n",
      "  with Michael Poston and Rebecca Niles\n",
      "Folger Shakespeare Library\n",
      "http://www.folgerdigitaltexts.org/?chapter=5&play=1H4\n",
      "Created on Jul 31, 2015, from FDT version 0.9.2\n",
      "\n",
      "Characters in the Play\n",
      "======================\n"
     ]
    }
   ],
   "source": [
    "with open(file_path) as stream:\n",
    "    contents = stream.read()\n",
    "\n",
    "print(contents[:300])"
   ]
  },
  {
   "attachments": {},
   "cell_type": "markdown",
   "metadata": {},
   "source": [
    "## PDF test exercises"
   ]
  },
  {
   "cell_type": "code",
   "execution_count": 6,
   "metadata": {},
   "outputs": [],
   "source": [
    "import PyPDF2 as PDF"
   ]
  },
  {
   "attachments": {},
   "cell_type": "markdown",
   "metadata": {},
   "source": [
    "-----\n"
   ]
  },
  {
   "attachments": {},
   "cell_type": "markdown",
   "metadata": {},
   "source": [
    "# WEEK TWO Exercises"
   ]
  },
  {
   "attachments": {},
   "cell_type": "markdown",
   "metadata": {},
   "source": [
    "## Easy\n"
   ]
  },
  {
   "attachments": {},
   "cell_type": "markdown",
   "metadata": {},
   "source": [
    "### 1"
   ]
  },
  {
   "cell_type": "markdown",
   "metadata": {},
   "source": [
    "\n",
    "1. The Dutch writer Joost van den Vondel is often seen as one of the most important Dutch playwrights of the seventeenth century. The file data/vondel-stcn.csv consists of 335 bibliographic records of his work as recorded by the Short-Title Catalogue, Netherlands (STCN). Use Python’s csv module to read this file into a list of records. Each record, then, should be a list with four elements: (i) the year of publication, (ii) the title, (iii) the name of the author, and (iv) the name of the publisher."
   ]
  },
  {
   "cell_type": "code",
   "execution_count": 2,
   "metadata": {},
   "outputs": [
    {
     "name": "stdout",
     "output_type": "stream",
     "text": [
      "('1642', 'Hiervsalem verwoest. Trevrspel.', 'Joost van den Vondel 1587-1679', 'Matthijsz, Paulus Amsterdam')\n",
      "('1641', \"Gysbrecht van Aemstel, d'ondergangh van zijn stad en zijn ballingschap. Treurspel.\", 'Joost van den Vondel 1587-1679', 'Houthaeck, Dirck Cornelisz Amsterdam')\n",
      "('1720', 'Joseph in Egypten. Trevrspel.', 'Joost van den Vondel 1587-1679', 'Oosterwyk, Johannes van Amsterdam')\n",
      "('17XX', 'Lucifer. Treurspel.', 'Joost van den Vondel 1587-1679', 'Wees, Abraham de I Amsterdam')\n",
      "('17XX', 'De heerlyckheit der kercke haer ingang, opgang, en voortgang.', 'Joost van den Vondel 1587-1679', 'Oude druckerije, de Köln')\n"
     ]
    }
   ],
   "source": [
    "vondel_csv = 'data/vondel-stcn.csv'\n",
    "\n",
    "import csv\n",
    "\n",
    "entries = []\n",
    "with open(vondel_csv) as stream:\n",
    "    reader = csv.reader(stream, delimiter=',')\n",
    "    for year, title, author, publisher in reader:\n",
    "        entries.append((year, title, author, publisher))\n",
    "for entry in entries[1:6]:\n",
    "    print(entry)"
   ]
  },
  {
   "cell_type": "code",
   "execution_count": 3,
   "metadata": {},
   "outputs": [
    {
     "name": "stdout",
     "output_type": "stream",
     "text": [
      "YEAR: 1642. TITLE: Hiervsalem verwoest. Trevrspel.. AUTHOR: Joost van den Vondel 1587-1679. PUBLISHER: Matthijsz, Paulus Amsterdam.\n",
      "YEAR: 1641. TITLE: Gysbrecht van Aemstel, d'ondergangh van zijn stad en zijn ballingschap. Treurspel.. AUTHOR: Joost van den Vondel 1587-1679. PUBLISHER: Houthaeck, Dirck Cornelisz Amsterdam.\n",
      "YEAR: 1720. TITLE: Joseph in Egypten. Trevrspel.. AUTHOR: Joost van den Vondel 1587-1679. PUBLISHER: Oosterwyk, Johannes van Amsterdam.\n",
      "YEAR: 17XX. TITLE: Lucifer. Treurspel.. AUTHOR: Joost van den Vondel 1587-1679. PUBLISHER: Wees, Abraham de I Amsterdam.\n",
      "YEAR: 17XX. TITLE: De heerlyckheit der kercke haer ingang, opgang, en voortgang.. AUTHOR: Joost van den Vondel 1587-1679. PUBLISHER: Oude druckerije, de Köln.\n"
     ]
    }
   ],
   "source": [
    " #BONUS\n",
    "\n",
    "vondel_csv = 'data/vondel-stcn.csv'\n",
    "\n",
    "import csv\n",
    "\n",
    "entries = []\n",
    "with open(vondel_csv) as stream:\n",
    "    reader = csv.reader(stream, delimiter=',')\n",
    "    for year, title, author, publisher in reader:\n",
    "        entries.append((year, title, author, publisher))\n",
    "for entry in entries[1:6]:\n",
    "    print(f\"YEAR: {entry[0]}.\", f\"TITLE: {entry[1]}.\", f\"AUTHOR: {entry[2]}.\", f\"PUBLISHER: {entry[3]}.\")"
   ]
  },
  {
   "attachments": {},
   "cell_type": "markdown",
   "metadata": {},
   "source": [
    "### 2"
   ]
  },
  {
   "cell_type": "markdown",
   "metadata": {},
   "source": [
    "\n",
    "\n",
    "2. Use the Counter object from the collections module to construct a frequency distribution of Vondel’s publishers. Print the five most common publishers.\n"
   ]
  },
  {
   "cell_type": "code",
   "execution_count": 68,
   "metadata": {},
   "outputs": [
    {
     "name": "stdout",
     "output_type": "stream",
     "text": [
      "5 MOST PUBLISHED: [('Wees, Abraham de I, wed. Amsterdam', 34), ('Wees, Joannes de Amsterdam', 29), ('Oosterwyk, Johannes van Amsterdam', 28), ('Brakman, Pieter Amersfoort', 23), ('Bruyn, Cornelis de Amsterdam', 21)].\n"
     ]
    }
   ],
   "source": [
    "import csv\n",
    "import collections\n",
    "\n",
    "with open('data/vondel-stcn.csv') as stream:\n",
    "    pub_count = csv.reader(stream, delimiter=',')\n",
    "    next(pub_count)\n",
    "    publishers = collections.Counter()\n",
    "\n",
    "    for row in pub_count:\n",
    "        publisher = row[3]\n",
    "        publishers[publisher] += 1\n",
    "\n",
    "#print(publishers.most_common()[:5])\n",
    "\n",
    "most_common_pub = (publishers.most_common()[:5])\n",
    "print(f\"5 MOST PUBLISHED: {most_common_pub[:5]}.\")\n"
   ]
  },
  {
   "cell_type": "code",
   "execution_count": null,
   "metadata": {},
   "outputs": [],
   "source": [
    "#BONUS!\n",
    "\n",
    "for publisher, count in most_common_pub:\n",
    "    print(\"Publisher {} has {} publications\".format(publisher, count))\n"
   ]
  },
  {
   "attachments": {},
   "cell_type": "markdown",
   "metadata": {},
   "source": [
    "### 3"
   ]
  },
  {
   "cell_type": "markdown",
   "metadata": {},
   "source": [
    "\n",
    "3. The place name of publication of Vondel’s works is included in the publisher name. For this exercise you may assume that the place name is the last word of the string. Write a procedure to extract all place names, and store those in a list. Use the Counter object to construct a frequency distribution and print the five most common place names.\n"
   ]
  },
  {
   "cell_type": "code",
   "execution_count": 123,
   "metadata": {},
   "outputs": [
    {
     "name": "stdout",
     "output_type": "stream",
     "text": [
      "Amsterdam\n",
      "Amsterdam\n",
      "Amsterdam\n",
      "Amsterdam\n",
      "Köln\n",
      "Amsterdam\n",
      "Utrecht\n",
      "Amsterdam\n",
      "Amsterdam\n",
      "Amsterdam\n",
      "Amsterdam\n",
      "Amsterdam\n",
      "Amsterdam\n",
      "Rotterdam\n",
      "Amsterdam\n",
      "Amsterdam\n",
      "Amsterdam\n",
      "Amsterdam\n",
      "Amsterdam\n",
      "Amsterdam\n",
      "Amsterdam\n",
      "Amsterdam\n",
      "Amsterdam\n",
      "Amsterdam\n",
      "Amsterdam\n",
      "stated\n",
      "Amsterdam\n",
      "Amsterdam\n",
      "Amsterdam\n",
      "'s-Gravenhage\n",
      "Amsterdam\n",
      "Amsterdam\n",
      "Amsterdam\n",
      "Amsterdam\n",
      "Amsterdam\n",
      "Amsterdam\n",
      "Amsterdam\n",
      "stated\n",
      "Amsterdam\n",
      "Amersfoort\n",
      "Amersfoort\n",
      "Schiedam\n",
      "Dordrecht\n",
      "Amsterdam\n",
      "stated\n",
      "Amsterdam\n",
      "Amsterdam\n",
      "Amsterdam\n",
      "Amsterdam\n",
      "Amersfoort\n",
      "Amsterdam\n",
      "Leeuwarden\n",
      "Amsterdam\n",
      "stated\n",
      "Amsterdam\n",
      "Amsterdam\n",
      "Amsterdam\n",
      "Amersfoort\n",
      "Amsterdam\n",
      "Amsterdam\n",
      "Köln\n",
      "Amsterdam\n",
      "Amsterdam\n",
      "Gorinchem\n",
      "Amsterdam\n",
      "Dordrecht\n",
      "Amsterdam\n",
      "Amsterdam\n",
      "Amsterdam\n",
      "Amsterdam\n",
      "Amsterdam\n",
      "Amsterdam\n",
      "Amsterdam\n",
      "Amsterdam\n",
      "Amsterdam\n",
      "Amsterdam\n",
      "Amsterdam\n",
      "Amsterdam\n",
      "Amsterdam\n",
      "stated\n",
      "Amsterdam\n",
      "Amsterdam\n",
      "Brugge\n",
      "Amsterdam\n",
      "Amsterdam\n",
      "Amsterdam\n",
      "Amsterdam\n",
      "Amsterdam\n",
      "Amsterdam\n",
      "Amsterdam\n",
      "Amsterdam\n",
      "Amsterdam\n",
      "Amsterdam\n",
      "stated\n",
      "Amsterdam\n",
      "Amersfoort\n",
      "Amsterdam\n",
      "Utrecht\n",
      "Amsterdam\n",
      "Amsterdam\n",
      "Amsterdam\n",
      "stated\n",
      "Amsterdam\n",
      "Amersfoort\n",
      "stated\n",
      "Amsterdam\n",
      "Amsterdam\n",
      "Schiedam\n",
      "Amsterdam\n",
      "Amsterdam\n",
      "Köln\n",
      "Amsterdam\n",
      "Amsterdam\n",
      "Amsterdam\n",
      "stated\n",
      "Hoorn\n",
      "Amsterdam\n",
      "Amersfoort\n",
      "Amsterdam\n",
      "Amsterdam\n",
      "Amsterdam\n",
      "Amsterdam\n",
      "Amsterdam\n",
      "Rotterdam\n",
      "Amsterdam\n",
      "Amsterdam\n",
      "Amsterdam\n",
      "Amersfoort\n",
      "stated\n",
      "Amsterdam\n",
      "Amsterdam\n",
      "Amsterdam\n",
      "Amsterdam\n",
      "Amsterdam\n",
      "Amsterdam\n",
      "Amsterdam\n",
      "Amsterdam\n",
      "Amsterdam\n",
      "Amsterdam\n",
      "Amsterdam\n",
      "Leeuwarden\n",
      "Amsterdam\n",
      "Amsterdam\n",
      "Amsterdam\n",
      "Amsterdam\n",
      "Amsterdam\n",
      "Amersfoort\n",
      "Amsterdam\n",
      "Amsterdam\n",
      "Amsterdam\n",
      "Amsterdam\n",
      "Amsterdam\n",
      "stated\n",
      "Amsterdam\n",
      "Amsterdam\n",
      "Amsterdam\n",
      "Köln\n",
      "Amsterdam\n",
      "Amsterdam\n",
      "Amsterdam\n",
      "Köln\n",
      "Amsterdam\n",
      "Amsterdam\n",
      "Amsterdam\n",
      "Amsterdam\n",
      "Amsterdam\n",
      "the\n",
      "Amsterdam\n",
      "Köln\n",
      "Amsterdam\n",
      "Amsterdam\n",
      "Amsterdam\n",
      "stated\n",
      "Amersfoort\n",
      "Amsterdam\n",
      "Amsterdam\n",
      "Amsterdam\n",
      "Amsterdam\n",
      "Amsterdam\n",
      "Brugge\n",
      "Amsterdam\n",
      "Amsterdam\n",
      "Amsterdam\n",
      "Amersfoort\n",
      "Köln\n",
      "Leeuwarden\n",
      "Amsterdam\n",
      "Amsterdam\n",
      "Amsterdam\n",
      "Amsterdam\n",
      "Amsterdam\n",
      "stated\n",
      "Amsterdam\n",
      "Amsterdam\n",
      "Amsterdam\n",
      "Amsterdam\n",
      "Amsterdam\n",
      "Schiedam\n",
      "Amsterdam\n",
      "Amsterdam\n",
      "Amsterdam\n",
      "Amsterdam\n",
      "Amsterdam\n",
      "stated\n",
      "Amersfoort\n",
      "Amsterdam\n",
      "Amsterdam\n",
      "Amsterdam\n",
      "Amsterdam\n",
      "Amsterdam\n",
      "Amsterdam\n",
      "Amsterdam\n",
      "Amsterdam\n",
      "Amsterdam\n",
      "Amsterdam\n",
      "Amsterdam\n",
      "Amsterdam\n",
      "Amsterdam\n",
      "Amsterdam\n",
      "Amsterdam\n",
      "Amsterdam\n",
      "Amsterdam\n",
      "Amsterdam\n",
      "Amsterdam\n",
      "Amsterdam\n",
      "Amsterdam\n",
      "Amsterdam\n",
      "Amsterdam\n",
      "Köln\n",
      "Amsterdam\n",
      "Amersfoort\n",
      "Amsterdam\n",
      "Amsterdam\n",
      "Amsterdam\n",
      "stated\n",
      "Amersfoort\n",
      "Amersfoort\n",
      "Amsterdam\n",
      "Amsterdam\n",
      "Amsterdam\n",
      "Amersfoort\n",
      "Amsterdam\n",
      "Amsterdam\n",
      "Amsterdam\n",
      "Amsterdam\n",
      "Amsterdam\n",
      "Amsterdam\n",
      "Amsterdam\n",
      "Amsterdam\n",
      "Amsterdam\n",
      "Rotterdam\n",
      "Amersfoort\n",
      "Amsterdam\n",
      "Amsterdam\n",
      "Amersfoort\n",
      "Utrecht\n",
      "Amsterdam\n",
      "Amsterdam\n",
      "Amsterdam\n",
      "Amsterdam\n",
      "Amsterdam\n",
      "Amersfoort\n",
      "Amsterdam\n",
      "stated\n",
      "Amersfoort\n",
      "Amsterdam\n",
      "Amsterdam\n",
      "Amsterdam\n",
      "stated\n",
      "Amsterdam\n",
      "Amsterdam\n",
      "Amsterdam\n",
      "Amsterdam\n",
      "Amsterdam\n",
      "Amsterdam\n",
      "Amsterdam\n",
      "Amsterdam\n",
      "stated\n",
      "Amsterdam\n",
      "Amsterdam\n",
      "Amsterdam\n",
      "Köln\n",
      "Amersfoort\n",
      "Amsterdam\n",
      "Amsterdam\n",
      "Amsterdam\n",
      "Amsterdam\n",
      "Amsterdam\n",
      "stated\n",
      "Amsterdam\n",
      "the\n",
      "Amsterdam\n",
      "Amsterdam\n",
      "Amsterdam\n",
      "Amersfoort\n",
      "Amsterdam\n",
      "Amsterdam\n",
      "Amsterdam\n",
      "Amsterdam\n",
      "Amsterdam\n",
      "Amsterdam\n",
      "Amsterdam\n",
      "Amsterdam\n",
      "Amsterdam\n",
      "Amsterdam\n",
      "Schiedam\n",
      "Köln\n",
      "Amsterdam\n",
      "Amsterdam\n",
      "Amsterdam\n",
      "Amsterdam\n",
      "Amsterdam\n",
      "Amsterdam\n",
      "Amsterdam\n",
      "Amsterdam\n",
      "Amsterdam\n",
      "Amsterdam\n",
      "Franeker\n",
      "Amsterdam\n",
      "Amsterdam\n",
      "Amsterdam\n",
      "Amsterdam\n",
      "Amsterdam\n",
      "Amsterdam\n",
      "Amsterdam\n",
      "Amsterdam\n",
      "Amsterdam\n",
      "Amsterdam\n",
      "Amersfoort\n",
      "Amsterdam\n",
      "Amsterdam\n",
      "Amsterdam\n",
      "stated\n",
      "Amsterdam\n",
      "Amsterdam\n",
      "[['Wees,', 'Abraham', 'de', 'I', 'Amsterdam']] is a test\n"
     ]
    }
   ],
   "source": [
    "vondel_csv = 'data/vondel-stcn.csv'\n",
    "\n",
    "import csv\n",
    "import collections\n",
    "\n",
    "entries = []\n",
    "with open(vondel_csv) as stream:\n",
    "    reader = csv.reader(stream, delimiter=',')\n",
    "    next(reader)\n",
    "    for _, _, _, location, in reader:\n",
    "        entries.append((location))\n",
    "    for entry in entries:\n",
    "        print(entry.split()[-1])\n",
    "        placename = [entry.split()]\n",
    "print(f\"{placename} is a test\")\n",
    "\n",
    "#with open('data/vondel-stcn.csv') as stream:\n",
    "#    pub_count = csv.reader(stream, delimiter=',')\n",
    "#    next(pub_count)\n",
    "#    publishers = collections.Counter()\n",
    "#    for row in pub_count:\n",
    "#        publisher = row[3]\n",
    "#        publishers[publisher] += 1    \n"
   ]
  },
  {
   "attachments": {},
   "cell_type": "markdown",
   "metadata": {},
   "source": [
    "\n",
    "## Moderate\n"
   ]
  },
  {
   "cell_type": "markdown",
   "metadata": {},
   "source": [
    "\n",
    "1. In this exercise, we’ll ask you to create and draw a character network for Shakespeare’s Romeo and Juliet and Othello. The XML encoded plays can be found at data/folger/xml/Rom.xml and data/folger/xml/Oth.xml. Compare the two visualizations to that of Hamlet. Comment on any differences you observe.\n"
   ]
  },
  {
   "attachments": {},
   "cell_type": "markdown",
   "metadata": {},
   "source": [
    "\n",
    "2. Print the number of nodes and edges for each of the three networks (i.e., including the graph for Hamlet). Which network has the largest number of nodes? And which has the largest number of edges?\n"
   ]
  },
  {
   "cell_type": "markdown",
   "metadata": {},
   "source": [
    "\n",
    "3. The character network of Hamlet has 38 nodes and 73 edges. However, many other edges between nodes could exist. That is to say, Shakespeare could have chosen to have other and more characters interact with each other. The extent to which this potential is used is called the density of a network. Network density is computed as the number of realized edges divided by the number of potential edges. NetworkX provides the function nx.density() to compute the density of a network. Use this function to compute the density of the three character networks. Which network has the highest density? How do the density values compare to the three visualizations?\n"
   ]
  }
 ],
 "metadata": {
  "kernelspec": {
   "display_name": "Python 3",
   "language": "python",
   "name": "python3"
  },
  "language_info": {
   "codemirror_mode": {
    "name": "ipython",
    "version": 3
   },
   "file_extension": ".py",
   "mimetype": "text/x-python",
   "name": "python",
   "nbconvert_exporter": "python",
   "pygments_lexer": "ipython3",
   "version": "3.10.4"
  },
  "orig_nbformat": 4,
  "vscode": {
   "interpreter": {
    "hash": "3ad933181bd8a04b432d3370b9dc3b0662ad032c4dfaa4e4f1596c548f763858"
   }
  }
 },
 "nbformat": 4,
 "nbformat_minor": 2
}
