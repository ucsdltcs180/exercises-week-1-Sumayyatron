{
 "cells": [
  {
   "attachments": {},
   "cell_type": "markdown",
   "metadata": {},
   "source": [
    "# CSV EXERCISES"
   ]
  },
  {
   "cell_type": "code",
   "execution_count": null,
   "metadata": {},
   "outputs": [],
   "source": [
    "csv_file = 'data/folger_shakespeare_collection.csv'\n",
    "with open(csv_file) as stream:\n",
    "    # call stream.readlines() to read all lines in the CSV file as a list.\n",
    "    lines = stream.readlines()\n",
    "\n",
    "print(lines[:3])\n",
    "\n",
    "#\n",
    "\n",
    "import csv\n",
    "\n",
    "entries = []\n",
    "with open(csv_file) as stream:\n",
    "    reader = csv.reader(stream, delimiter=',')\n",
    "    for fname, author, title, editor, publisher, pubplace, date in reader:\n",
    "        entries.append((fname, title))\n",
    "\n",
    "for entry in entries[:5]:\n",
    "    print(entry)\n",
    "\n",
    "#\n",
    "\n",
    "entries = []\n",
    "\n",
    "with open(csv_file) as stream:\n",
    "    reader = csv.DictReader(stream, delimiter=',')\n",
    "    for row in reader:\n",
    "        entries.append(row)\n",
    "\n",
    "for entry in entries[:5]:\n",
    "    print(entry['fname'], entry['title'])"
   ]
  },
  {
   "attachments": {},
   "cell_type": "markdown",
   "metadata": {},
   "source": [
    "# TEXT EXERCISES"
   ]
  },
  {
   "cell_type": "code",
   "execution_count": null,
   "metadata": {},
   "outputs": [
    {
     "name": "stdout",
     "output_type": "stream",
     "text": [
      "Henry IV, Part I\n",
      "by William Shakespeare\n",
      "Edited by Barbara A. Mowat and Paul Werstine\n",
      "  with Michael Poston and Rebecca Niles\n",
      "Folger Shakespeare Library\n",
      "http://www.folgerdigitaltexts.org/?chapter=5&play=1H4\n",
      "Created on Jul 31, 2015, from FDT version 0.9.2\n",
      "\n",
      "Characters in the Play\n",
      "======================\n"
     ]
    }
   ],
   "source": [
    "file_path = 'data/folger/txt/1H4.txt'\n",
    "stream = open(file_path)\n",
    "contents = stream.read()\n",
    "stream.close()\n",
    "\n",
    "print(contents[:300])"
   ]
  },
  {
   "cell_type": "code",
   "execution_count": null,
   "metadata": {},
   "outputs": [],
   "source": [
    "with open(file_path) as stream:\n",
    "    contents = stream.read()\n",
    "\n",
    "print(contents[:300])"
   ]
  },
  {
   "attachments": {},
   "cell_type": "markdown",
   "metadata": {},
   "source": [
    "# PDF EXERCISES"
   ]
  },
  {
   "cell_type": "code",
   "execution_count": 2,
   "metadata": {},
   "outputs": [],
   "source": [
    "import lxml.etree"
   ]
  },
  {
   "cell_type": "code",
   "execution_count": null,
   "metadata": {},
   "outputs": [],
   "source": [
    "import PyPDF2 as PDF\n"
   ]
  },
  {
   "cell_type": "code",
   "execution_count": null,
   "metadata": {},
   "outputs": [],
   "source": [
    "print(lxml.etree.tostring(tree).decode())"
   ]
  },
  {
   "cell_type": "code",
   "execution_count": null,
   "metadata": {},
   "outputs": [],
   "source": []
  },
  {
   "cell_type": "code",
   "execution_count": null,
   "metadata": {},
   "outputs": [],
   "source": []
  }
 ],
 "metadata": {
  "kernelspec": {
   "display_name": "Python 3",
   "language": "python",
   "name": "python3"
  },
  "language_info": {
   "codemirror_mode": {
    "name": "ipython",
    "version": 3
   },
   "file_extension": ".py",
   "mimetype": "text/x-python",
   "name": "python",
   "nbconvert_exporter": "python",
   "pygments_lexer": "ipython3",
   "version": "3.10.4"
  },
  "orig_nbformat": 4,
  "vscode": {
   "interpreter": {
    "hash": "3ad933181bd8a04b432d3370b9dc3b0662ad032c4dfaa4e4f1596c548f763858"
   }
  }
 },
 "nbformat": 4,
 "nbformat_minor": 2
}
